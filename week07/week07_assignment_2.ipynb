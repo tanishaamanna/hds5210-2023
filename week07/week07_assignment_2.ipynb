{
  "cells": [
    {
      "cell_type": "markdown",
      "metadata": {
        "id": "q2JYGqL6AqrU"
      },
      "source": [
        "# Week 7 Assignment\n",
        "\n",
        "We've been working with different types of data structures in Python (dictionary, list, etc), how those are represented in JSON documents, and how to write code to access specific data elements. In this week's assignment, you will need to create your own JSON document to store information about yourself and the grades you've received from week 1 to week 4 and the week 6 quiz.  That is, everything you should have received a grade for.  Then you'll need to show me you know how to navigate the JSON in that file.\n",
        "\n",
        "Different from what we've done in the past, you do not have to write any functions or include any docstrings.  Just create some JSON and write some code.\n",
        "\n",
        "---"
      ]
    },
    {
      "cell_type": "markdown",
      "metadata": {
        "id": "IKY9CSodAqrW"
      },
      "source": [
        "## 7.1 Create a JSON file\n",
        "\n",
        "Create a JSON file that contains your name, email, year you were born, all of the grades you've received back so far, and a comment about what you thought was most challenging on each of those assignments.  This can be any structure you choose, but make sure it uses a dictionary and a list, and has at least two levels of hierarchy.  That is, it can't just be one big long list."
      ]
    },
    {
      "cell_type": "markdown",
      "metadata": {
        "id": "-W9lGV2tAqrW"
      },
      "source": [
        "First, explain how your data structure is going to look..."
      ]
    },
    {
      "cell_type": "markdown",
      "metadata": {
        "id": "4rgOrJ6dAqrX"
      },
      "source": [
        "* Put your explanation here in text..."
      ]
    },
    {
      "cell_type": "markdown",
      "metadata": {
        "id": "4nATKZllAqrX"
      },
      "source": [
        "Then put the actual JSON you've created inside the multiline string below..."
      ]
    },
    {
      "cell_type": "code",
      "execution_count": 5,
      "metadata": {
        "id": "iC-O2f9KAqrX"
      },
      "outputs": [],
      "source": [
        "hds5210 = \"\"\"\n",
        "{\n",
        "  \"name\": \"Tanishaa Manna\",\n",
        "  \"email\": \"tanishaa.manna@slu.edu\",\n",
        "  \"year of birth\": \"2002\",\n",
        "  \"grades\": [\n",
        "    {\n",
        "      \"assignment\": \"week 01\",\n",
        "      \"grade\": \"10/10\",\n",
        "      \"comment\": \"I struggled to create Guthub account with my slu email because the link on Canvas was not working for me.\"\n",
        "    },\n",
        "    {\n",
        "      \"assignment\": \"week 02\",\n",
        "      \"grade\": \"10/10\",\n",
        "      \"comment\": \"Jumping into coding with Python was a little difficult.\"\n",
        "    },\n",
        "    {\n",
        "      \"assignment\": \"week 03\",\n",
        "      \"grade\": \"9.5/10\",\n",
        "      \"comment\": \"I struggled to add assignment 2 to my week 03 folder.\"\n",
        "    },\n",
        "    {\n",
        "      \"assignment\": \"week 04\",\n",
        "      \"grade\": \"10/10\",\n",
        "      \"comment\": \"The difficulty has increased a lot more than week 1. I am struggling with some concepts but I have been watching Youtube videos to understand them better.\"\n",
        "    },\n",
        "    {\n",
        "      \"assignment\": \"week 06 quiz\",\n",
        "      \"grade\": \"no grade yet (as of October 11, 2024)\",\n",
        "      \"comment\": \"I felt this was the most difficult assignment so far because I was trying to finish the quiz faster and could not take time to understand.\"\n",
        "    }\n",
        "  ]\n",
        "}\n",
        "\"\"\""
      ]
    },
    {
      "cell_type": "markdown",
      "metadata": {
        "id": "nSb81DYAAqrY"
      },
      "source": [
        "## 7.2 Do something with your JSON\n",
        "\n",
        "Now use Python code to do something with the Json above.  Turn it into English text, but make sure that you use at least one loop to access some dict or list content of your JSON.  Below, I've provided some basic code to read in the string above as JSON and return a Python object.  Your job is to work with that data structure and print out the important information like your name, email, and how you did on each assignment."
      ]
    },
    {
      "cell_type": "code",
      "execution_count": 6,
      "metadata": {
        "colab": {
          "base_uri": "https://localhost:8080/"
        },
        "id": "Z-ZJSuv5AqrY",
        "outputId": "43429f88-d333-4fb5-f112-6c1b4d1270aa"
      },
      "outputs": [
        {
          "output_type": "stream",
          "name": "stdout",
          "text": [
            "Hi my name is Tanishaa Manna and my email is (tanishaa.manna@slu.edu).\n",
            "I recieved a score of 10/10 on the week 01 assignment; I struggled to create Guthub account with my slu email because the link on Canvas was not working for me.\n",
            "I recieved a score of 10/10 on the week 02 assignment; Jumping into coding with Python was a little difficult.\n",
            "I recieved a score of 9.5/10 on the week 03 assignment; I struggled to add assignment 2 to my week 03 folder.\n",
            "I recieved a score of 10/10 on the week 04 assignment; The difficulty has increased a lot more than week 1. I am struggling with some concepts but I have been watching Youtube videos to understand them better.\n",
            "I recieved a score of no grade yet (as of October 11, 2024) on the week 06 quiz assignment; I felt this was the most difficult assignment so far because I was trying to finish the quiz faster and could not take time to understand.\n",
            "\n"
          ]
        }
      ],
      "source": [
        "import json\n",
        "\n",
        "info = json.loads(hds5210)\n",
        "name = info[\"name\"]\n",
        "email = info[\"email\"]\n",
        "academic_data = info[\"grades\"]\n",
        "\n",
        "academic_text = f\"Hi my name is {name} and my email is ({email}).\\n\"\n",
        "grades_text = \"\"\n",
        "\n",
        "for grade_info in academic_data:\n",
        "  assignment_name = grade_info[\"assignment\"]\n",
        "  grade = grade_info[\"grade\"]\n",
        "  comment = grade_info[\"comment\"]\n",
        "  academic_text += f\"I recieved a score of {grade} on the {assignment_name} assignment; {comment}\\n\"\n",
        "\n",
        "print(academic_text)"
      ]
    },
    {
      "cell_type": "markdown",
      "metadata": {
        "id": "FuVdCWsPAqrZ"
      },
      "source": [
        "## 7.3 Reflect\n",
        "\n",
        "Write a paragraph on any reflections you have. Was this hard? Easy?  What parts were most challenging or easiest? What did you like or dislike about the assignment?  Share whatever important thoughts you have abou this assignment."
      ]
    },
    {
      "cell_type": "markdown",
      "metadata": {
        "id": "EuyFdHfjAqrZ"
      },
      "source": [
        "I found this task to be fun and interesting and believe that this will be useful in my future whether its in my career or my graduate school aspirations. This week's task did not pose a challenege for me because I understood the task at hand and was able to follow the Example provided below as a guide. The part that I liked about this assignement is that the Example was provided which acted as a clear guide of what is expected from this assignement. This assignement also improved my problem-solving and analytical skills. Resolving the issues allowed me to gain a deeper insight into JSON and Python."
      ]
    },
    {
      "cell_type": "markdown",
      "metadata": {
        "id": "AuX8h4FAAqrZ"
      },
      "source": [
        "---\n",
        "\n",
        "# Example\n",
        "\n",
        "Below is an example of something similar, but this uses information my and my friend's kids instead of grades."
      ]
    },
    {
      "cell_type": "code",
      "execution_count": 7,
      "metadata": {
        "colab": {
          "base_uri": "https://localhost:8080/"
        },
        "id": "SfgmFu6PAqrZ",
        "outputId": "05d4ff46-335e-4bc1-da52-22bcbe06fbc9"
      },
      "outputs": [
        {
          "output_type": "stream",
          "name": "stdout",
          "text": [
            "Hi, my name is Paul. I've got 3 kids. Their names are Ellie, Ada, Teddy.\n",
            "My friend, Anny has 1 kids. That's fewer than me. Their names are 1\n"
          ]
        }
      ],
      "source": [
        "hds5210 = \"\"\"\n",
        "{\n",
        "    \"me\": {\n",
        "        \"name\": \"Paul\",\n",
        "        \"kids\": [\"Ellie\", \"Ada\", \"Teddy\"]\n",
        "    },\n",
        "    \"friend\": {\n",
        "        \"name\": \"Anny\",\n",
        "        \"kids\": [\"Abby\"]\n",
        "    }\n",
        "}\n",
        "\"\"\"\n",
        "\n",
        "import json\n",
        "\n",
        "info = json.loads(hds5210)\n",
        "\n",
        "me = info[\"me\"][\"name\"]\n",
        "my_kids_count = len(info[\"me\"][\"kids\"])\n",
        "kids_list = \", \".join(info[\"me\"][\"kids\"])\n",
        "friend = info[\"friend\"][\"name\"]\n",
        "friends_kid_count = len(info[\"friend\"][\"kids\"])\n",
        "friend_kids = \", \".join(info[\"friend\"][\"kids\"])\n",
        "compare = \"more\" if friends_kid_count > my_kids_count else \"fewer\"\n",
        "\n",
        "print(f\"Hi, my name is {me}. I've got {my_kids_count} kids. Their names are {kids_list}.\")\n",
        "print(f\"My friend, {friend} has {friends_kid_count} kids. That's {compare} than me. Their names are {friends_kid_count}\")"
      ]
    }
  ],
  "metadata": {
    "kernelspec": {
      "display_name": "Python 3",
      "language": "python",
      "name": "python3"
    },
    "language_info": {
      "codemirror_mode": {
        "name": "ipython",
        "version": 3
      },
      "file_extension": ".py",
      "mimetype": "text/x-python",
      "name": "python",
      "nbconvert_exporter": "python",
      "pygments_lexer": "ipython3",
      "version": "3.9.16"
    },
    "colab": {
      "provenance": []
    }
  },
  "nbformat": 4,
  "nbformat_minor": 0
}