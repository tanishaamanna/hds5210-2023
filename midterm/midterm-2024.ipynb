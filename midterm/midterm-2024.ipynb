{
  "cells": [
    {
      "cell_type": "markdown",
      "metadata": {
        "id": "JlEEqLf8QMk0"
      },
      "source": [
        "# HDS5210-2022 Midterm\n",
        "\n",
        "In the midterm, you're going to use all the programming and data management skills you've developed so far to build a risk calculator that pretends to be integrated with a clinical registry.  You'll compute the PRIEST COVID-19 Clinical Severity Score for a series of patients and, based on their risk of an adverse outcome, query a REST web service to find a hospital to transfer them to. The end result of your work will be a list of instructions on where each patient should be discharged given their risk and various characteristics of the patient.\n",
        "\n",
        "Each step in the midterm will build up to form your complete solution.\n",
        "\n",
        "**Make sure you write good docstrings and doctests along the way!!**\n",
        "\n",
        "**The midterm is due at 11:59 PM CST on Monday, October 23rd.**\n",
        "\n",
        "---"
      ]
    },
    {
      "cell_type": "markdown",
      "metadata": {
        "id": "HW_-Gm5EQMk0"
      },
      "source": [
        "## Step 1: Calculate PRIEST Clinical Severity Score\n",
        "\n",
        "This scoring algorithm can be found [here on the MDCalc website](https://www.mdcalc.com/priest-covid-19-clinical-severity-score#evidence).  \n",
        "\n",
        "1. You will need to write a function called **priest()** with the following input parameters.  \n",
        " * Sex (Gender assigned at birth)\n",
        " * Age in years\n",
        " * Respiratory rate in breaths per minute\n",
        " * Oxygen saturation as a percent between 0 and 1\n",
        " * Heart rate in beats per minute\n",
        " * Systolic BP in mmHg\n",
        " * Temperature in degrees C\n",
        " * Alertness as a string description\n",
        " * Inspired Oxygen as as string description\n",
        " * Performance Status as a string description\n",
        "2. The function will need to follow the algorithm provided on the MDCalc website to compute a risk percentage that should be returned as a numeric value between 0 and 1.\n",
        "3. Be sure to use docstring documentation and at least three built-in docstring test cases.\n",
        "4. Assume that the input values that are strings could be any combination of upper or lower case. For example: 'male', 'Male', 'MALE', 'MalE' should all be interpretted by your code as male.\n",
        "5. If any of the inputs are invalid (for example a sex value that is not recognizable as male or female) your code should return None.\n",
        "\n",
        "NOTES:\n",
        "1. In the final step there is a table that translates from **PRIEST Score** to **30-day probability of an outcome** but the last two probabilities are shown as ranges (59-88% and >99%).  Our code needs to output a single number, however. For our code, use the following rule:\n",
        " * If PRIEST score is between 17 and 25, the probability you return should be 0.59\n",
        " * If PRIEST score is greater than or equal to 26, the probability you return should be 0.99\n"
      ]
    },
    {
      "cell_type": "code",
      "execution_count": 19,
      "metadata": {
        "id": "8myP3axsQMk1"
      },
      "outputs": [],
      "source": [
        "def priest(sex, age, respiratory_rate, oxygen_saturation, heart_rate, systolic_bp, temperature, alertness, inspired_oxygen, performance_status):\n",
        "\n",
        "    \"\"\"\n",
        "    This function assesses a person's medical condition based on various input parameters, including gender, age, respiratory rate, oxygen saturation, heart rate,\n",
        "    systolic bp, body temperature, alertness, inspried oxygen levels, and performance status. It calculates and provides a severity percentile score to indicate\n",
        "    the severity of the individual's medical condition.\n",
        "\n",
        "    Examples:\n",
        "    >>> priest('MALE', 18, 22.0, 0.95, 105.0, 115.0, 36.3, 'Confused or Not Alert', 'air', 'unrestricted normal activity')\n",
        "    0.22\n",
        "    >>> priest('FEMALE', 40, 24.0, 0.96, 105.0, 115.0, 34.9, 'ALERT', 'AIR', 'unrestricted normal activity')\n",
        "    0.15\n",
        "    >>> priest('Female', 51, 19.0, 0.99, 90.0, 91.0, 38.1, 'ALERT', 'supplemental oxygen', 'unrestricted normal activity')\n",
        "    0.18\n",
        "    \"\"\"\n",
        "\n",
        "    score = 0\n",
        "# Sex\n",
        "    sex = sex.lower()\n",
        "    if sex == \"male\":\n",
        "        score += 1\n",
        "    elif sex != \"female\":\n",
        "        return None\n",
        "\n",
        "    # Age\n",
        "    if 16 <= age <= 49:\n",
        "        score += 0\n",
        "    elif 50 <= age <= 65:\n",
        "        score += 2\n",
        "    elif 66 <= age <= 80:\n",
        "        score += 3\n",
        "    elif age > 80:\n",
        "        score += 4\n",
        "    else:\n",
        "        return None\n",
        "\n",
        "    # Respiratory rate\n",
        "    if respiratory_rate < 9:\n",
        "        score += 3\n",
        "    elif 9 <= respiratory_rate <= 11:\n",
        "        score += 1\n",
        "    elif 12 <= respiratory_rate <= 20:\n",
        "        score += 0\n",
        "    elif 21 <= respiratory_rate <= 24:\n",
        "        score += 2\n",
        "    elif respiratory_rate > 24:\n",
        "        score += 3\n",
        " # Oxygen saturation\n",
        "    if oxygen_saturation > 0.95:\n",
        "        score += 0\n",
        "    elif 0.94 <= oxygen_saturation <= 0.95:\n",
        "        score += 1\n",
        "    elif 0.92 <= oxygen_saturation <= 0.93:\n",
        "        score += 2\n",
        "    elif oxygen_saturation < 0.92:\n",
        "        score += 3\n",
        "\n",
        "    # Heart rate\n",
        "    if heart_rate < 41:\n",
        "        score += 3\n",
        "    elif 41 <= heart_rate <= 50:\n",
        "        score += 1\n",
        "    elif 51 <= heart_rate <= 90:\n",
        "        score += 0\n",
        "    elif 91 <= heart_rate <= 110:\n",
        "        score += 1\n",
        "    elif 111 <= heart_rate <= 130:\n",
        "        score += 2\n",
        "    elif heart_rate > 130:\n",
        "        score += 3\n",
        "\n",
        "    # Systolic BP\n",
        "    if systolic_bp < 91:\n",
        "        score += 3\n",
        "    elif 91 <= systolic_bp <= 100:\n",
        "        score += 2\n",
        "    elif 101 <= systolic_bp <= 110:\n",
        "        score += 1\n",
        "    elif 111 <= systolic_bp <= 219:\n",
        "        score += 0\n",
        "    elif systolic_bp > 219:\n",
        "        score += 3\n",
        "\n",
        "    # Temperature\n",
        "    if temperature < 35.1:\n",
        "        score += 3\n",
        "    elif 35.1 <= temperature <= 36.0:\n",
        "        score += 1\n",
        "    elif 36.1 <= temperature <= 38.0:\n",
        "        score += 0\n",
        "    elif 38.1 <= temperature <= 39.0:\n",
        "        score += 1\n",
        "    elif temperature > 39.0:\n",
        "        score += 2\n",
        "\n",
        "    # Alertness\n",
        "    alertness = alertness.lower()\n",
        "    if alertness == \"alert\":\n",
        "        score += 0\n",
        "    elif \"confused\" in alertness or \"not alert\" in alertness:\n",
        "        score += 3\n",
        "    else:\n",
        "        return None\n",
        "\n",
        "    # Inspired Oxygen\n",
        "    inspired_oxygen = inspired_oxygen.lower()\n",
        "    if \"air\" in inspired_oxygen:\n",
        "        score += 0\n",
        "    elif \"supplemental oxygen\" in inspired_oxygen:\n",
        "        score += 2\n",
        "    else:\n",
        "        return None\n",
        "# Performance Status\n",
        "    performance_status = performance_status.lower()\n",
        "    if \"unrestricted normal activity\" in performance_status:\n",
        "        score += 0\n",
        "    elif \"limited strenuous activity\" in performance_status:\n",
        "        score += 1\n",
        "    elif \"limited activity, can self-care\" in performance_status:\n",
        "        score += 2\n",
        "    elif \"limited self-care\" in performance_status:\n",
        "        score += 3\n",
        "    elif \"bed/chair bound\" in performance_status:\n",
        "        score += 4\n",
        "    else:\n",
        "        return None\n",
        "\n",
        "    # Translate score to risk percentage\n",
        "    if score <= 1:\n",
        "        return 0.01\n",
        "    elif score <=3:\n",
        "        return 0.02\n",
        "    elif score == 4:\n",
        "        return 0.03\n",
        "    elif score == 5:\n",
        "        return 0.09\n",
        "    elif score == 6:\n",
        "        return 0.15\n",
        "    elif score == 7:\n",
        "        return 0.18\n",
        "    elif score == 8:\n",
        "        return 0.22\n",
        "    elif score == 9:\n",
        "        return 0.26\n",
        "    elif score == 10:\n",
        "        return 0.29\n",
        "    elif score == 11:\n",
        "        return 0.34\n",
        "    elif score == 12:\n",
        "        return 0.38\n",
        "    elif score == 13:\n",
        "        return 0.46\n",
        "    elif score == 14:\n",
        "        return 0.47\n",
        "    elif score == 15:\n",
        "        return 0.49\n",
        "    elif score == 16:\n",
        "        return 0.55\n",
        "    elif 17 <= score <= 25:\n",
        "        return 0.59\n",
        "    elif score >= 26:\n",
        "      return 0.99"
      ]
    },
    {
      "cell_type": "code",
      "execution_count": 20,
      "metadata": {
        "colab": {
          "base_uri": "https://localhost:8080/"
        },
        "id": "Nd38cqCfQMk1",
        "outputId": "56f49829-19fc-4fc5-960d-64b3ccd24651"
      },
      "outputs": [
        {
          "output_type": "stream",
          "name": "stdout",
          "text": [
            "Finding tests in NoName\n",
            "Trying:\n",
            "    priest('MALE', 18, 22.0, 0.95, 105.0, 115.0, 36.3, 'Confused or Not Alert', 'air', 'unrestricted normal activity')\n",
            "Expecting:\n",
            "    0.22\n",
            "ok\n",
            "Trying:\n",
            "    priest('FEMALE', 40, 24.0, 0.96, 105.0, 115.0, 34.9, 'ALERT', 'AIR', 'unrestricted normal activity')\n",
            "Expecting:\n",
            "    0.15\n",
            "ok\n",
            "Trying:\n",
            "    priest('Female', 51, 19.0, 0.99, 90.0, 91.0, 38.1, 'ALERT', 'supplemental oxygen', 'unrestricted normal activity')\n",
            "Expecting:\n",
            "    0.18\n",
            "ok\n"
          ]
        }
      ],
      "source": [
        "import doctest\n",
        "doctest.run_docstring_examples(priest, globals(),verbose=True)"
      ]
    },
    {
      "cell_type": "markdown",
      "metadata": {
        "id": "0TWSP15nQMk1"
      },
      "source": [
        "## Part 2: Find a hospital\n",
        "\n",
        "The next thing we have to do is figure out where to send this particular patient.  The guidelines on where to send a patient are based on their age (pediatric, adult, geriatric), sex, and risk percentage.  Luckily, you don't have to implement these rules. I already have. All you have to do is use a REST web service that I've created for you.\n",
        "\n",
        "You'll want to use Python to make a call to my REST web service similar to the example URL below. The first part of the URL will be the same for everyone and every request that you make. What you will need to modify for each of your requests is the information after the question mark.\n",
        "\n",
        "```\n",
        "https://oumdj6oci2.execute-api.us-east-1.amazonaws.com/prd/?age=40&sex=male&risk_pct=0.1\n",
        "```\n",
        "\n",
        "The example above asks my web service where a 40-year old male with a risk of 10% should go.  What the web service will return back is a JSON string containing the information you need.  That JSON will look like this:\n",
        "\n",
        "```json\n",
        "{\n",
        "  \"age\": \"40\",\n",
        "  \"sex\": \"male\",\n",
        "  \"risk\": \"0.1\",\n",
        "  \"hospital\": \"Southwest Hospital and Medical Center\"\n",
        "}\n",
        "```\n",
        "\n",
        "My function is not smart enough to understand `'MALE'` is the same as `'male'`.  You have to send it exactly `'male'` or `'female'`\n",
        "\n",
        "1. Your job is to write a function called **find_hospital()** that takes age, sex, and risk as parameters.\n",
        "2. Your function should call this REST web service using the `requests` module\n",
        "3. Then your function will need to interpret the JSON it gets and return just the name of the hospital\n",
        "4. If anything fails, return None\n",
        "5. Include a good docstring with at least three test cases.\n"
      ]
    },
    {
      "cell_type": "code",
      "execution_count": 21,
      "metadata": {
        "id": "oGiHgOTUQMk2"
      },
      "outputs": [],
      "source": [
        "import requests\n",
        "def find_hospital(age,sex, risk):\n",
        "    \"\"\"(int, str, float) -> (str)\n",
        "    The function processes input parameters, including age, gender, and risk level, and\n",
        "    provides the name of the hospital as an output in the form of a string.\n",
        "\n",
        "    >>> find_hospital(18, 'MALE', 0.22)\n",
        "    'Southwest Hospital and Medical Center'\n",
        "\n",
        "    >>> find_hospital(40, 'FEMALE', 0.15)\n",
        "    'Select Specialty Hospital - Northeast Atlanta'\n",
        "\n",
        "    >>> find_hospital(51, 'Female', 0.18)\n",
        "    'Select Specialty Hospital - Northeast Atlanta'\n",
        "\n",
        "\n",
        "    \"\"\"\n",
        "\n",
        "    url = f'https://oumdj6oci2.execute-api.us-east-1.amazonaws.com/prd/?age={age}&sex={sex}&risk_pct={risk}'\n",
        "    response = requests.get(url)\n",
        "    hospital = response.json()['hospital']\n",
        "    hospital_name = hospital\n",
        "    if hospital_name == response.json()['hospital']:\n",
        "        return hospital_name\n",
        "    else:\n",
        "      return None"
      ]
    },
    {
      "cell_type": "code",
      "execution_count": 22,
      "metadata": {
        "colab": {
          "base_uri": "https://localhost:8080/"
        },
        "id": "MFWdxBhQQMk2",
        "outputId": "ceb7d0db-5eee-4a4a-998d-49490e9132bd"
      },
      "outputs": [
        {
          "output_type": "stream",
          "name": "stdout",
          "text": [
            "Finding tests in NoName\n",
            "Trying:\n",
            "    find_hospital(18, 'MALE', 0.22)\n",
            "Expecting:\n",
            "    'Southwest Hospital and Medical Center'\n",
            "ok\n",
            "Trying:\n",
            "    find_hospital(40, 'FEMALE', 0.15)\n",
            "Expecting:\n",
            "    'Select Specialty Hospital - Northeast Atlanta'\n",
            "ok\n",
            "Trying:\n",
            "    find_hospital(51, 'Female', 0.18)\n",
            "Expecting:\n",
            "    'Select Specialty Hospital - Northeast Atlanta'\n",
            "ok\n"
          ]
        }
      ],
      "source": [
        "import doctest\n",
        "doctest.run_docstring_examples(find_hospital, globals(),verbose=True)"
      ]
    },
    {
      "cell_type": "markdown",
      "metadata": {
        "id": "CZHZooW7QMk2"
      },
      "source": [
        "## Part 3: Get the address for that hospital from a JSON file\n",
        "\n",
        "Great! Now we have code to tell us which hospital to send someone to... but we don't know where that hospital is. The next function we need to create is one that looks up the address of that hospital.  All of these hospitals are in Atlanta, Georgia.  We're going to use the list from this webpage to lookup the address for that hospital, based on its name.  https://www.officialusa.com/stateguides/health/hospitals/georgia.html\n",
        "\n",
        "Because we skipped the section about Beautiful Soup and working with HTML, I've converted this information into a JSON document for you.  It's available for you here.  Your code should retrieve this file using the `requests` module.\n",
        "\n",
        "`https://drive.google.com/uc?export=download&id=1fIFD-NkcdiMu941N4GjyMDWxiKsFJBw-`\n",
        "\n",
        "1. You need to create a function called **get_address()** that takes hospital name as a parameter and searches the data from this JSON file for the hospital you want to find.\n",
        "2. Your code will have to load the JSON and return the correct hospital based on name.\n",
        "3. If the hospital name isn't found, the function should return None.\n",
        "4. Be sure to use good docstring documentation and includes at least 3 test cases."
      ]
    },
    {
      "cell_type": "code",
      "execution_count": 23,
      "metadata": {
        "colab": {
          "base_uri": "https://localhost:8080/"
        },
        "id": "RvdUJaXIQMk2",
        "outputId": "90906986-81f1-4a2b-b632-3d8f8728e555"
      },
      "outputs": [
        {
          "output_type": "stream",
          "name": "stdout",
          "text": [
            "Finding tests in NoName\n",
            "Trying:\n",
            "    get_address('SOUTHWEST HOSPITAL AND MEDICAL CENTER')\n",
            "Expecting:\n",
            "    '501 FAIRBURN ROAD SW'\n",
            "ok\n",
            "Trying:\n",
            "    get_address('SELECT SPECIALTY HOSPITAL - NORTHEAST ATLANTA')\n",
            "Expecting:\n",
            "    '1821 CLIFTON ROAD NE'\n",
            "ok\n",
            "Trying:\n",
            "    get_address('SELECT SPECIALTY HOSPITAL - NORTHEAST ATLANTA')\n",
            "Expecting:\n",
            "    '1821 CLIFTON ROAD NE'\n",
            "ok\n"
          ]
        }
      ],
      "source": [
        "import requests\n",
        "import json\n",
        "\n",
        "def get_address(hospital_name):\n",
        "    \"\"\"\n",
        "    (str) -> (str)\n",
        "    The function is designed to accept the name of a hospital as an input and, in response, provides the coressponding address of the hopsital.\n",
        "\n",
        "    Examples:\n",
        "        >>> get_address('SOUTHWEST HOSPITAL AND MEDICAL CENTER')\n",
        "        '501 FAIRBURN ROAD SW'\n",
        "\n",
        "        >>> get_address('SELECT SPECIALTY HOSPITAL - NORTHEAST ATLANTA')\n",
        "        '1821 CLIFTON ROAD NE'\n",
        "\n",
        "        >>> get_address('SELECT SPECIALTY HOSPITAL - NORTHEAST ATLANTA')\n",
        "        '1821 CLIFTON ROAD NE'\n",
        "    \"\"\"\n",
        "    try:\n",
        "        # Load the JSON file from the provided URL.\n",
        "        url = 'https://hds5210-data.s3.amazonaws.com/ga_hospitals.json'\n",
        "        response = requests.get(url)\n",
        "        response.raise_for_status()  # Raise an exception if there's an issue with the request.\n",
        "\n",
        "        # Parse the JSON data.\n",
        "        data = json.loads(response.text)\n",
        "\n",
        "        # Find the hospital in the JSON data.\n",
        "        if hospital_name in data:\n",
        "            hospital_info = data[hospital_name]\n",
        "            if 'ADDRESS' in hospital_info:\n",
        "                return hospital_info['ADDRESS']\n",
        "\n",
        "        # If the hospital or address is not found, return None.\n",
        "        return None\n",
        "    except Exception as e:\n",
        "        print(f\"An error occurred: {str(e)}\")\n",
        "        return None\n",
        "import doctest\n",
        "doctest.run_docstring_examples(get_address, globals(), verbose=True)"
      ]
    },
    {
      "cell_type": "markdown",
      "metadata": {
        "id": "iMhmVwxsQMk2"
      },
      "source": [
        "## Part 4: Run the risk calculator on a population\n",
        "\n",
        "At the link below, there is a file called `people.psv`.  It is a pipe-delimited (`|`) file with columns that match the inputs for the PRIEST calculation above.  Your code should use the `requests` module to retrieve the file from this URL.\n",
        "\n",
        "`https://drive.google.com/uc?export=download&id=1fLxJN9YGUqmqExrilxSS8furwUER5HHh`\n",
        "\n",
        "\n",
        "In addition, the file has a patient identifier in the first column.\n",
        "\n",
        "1. Write a function called **process_people()** that takes the file location above as its only parameter. Your Python program should use your code above to process all of these rows, determine the hospital and address, and return a list whose items are a dictionary like this: `{ patient_number: [sex, age, breath, o2sat, heart, systolic, temp, alertness, inspired, status, hospital, address]}`.  Look at the file in Part 5 for what the output looks like.\n",
        "2. Be sure to use good docstrings, but you don't need any tests in your doc strings.  I've provided those for you withe file in Part 5.\n",
        "\n",
        "\n",
        "**NOTE** that when running your code for all the 100 records in the `people.psv` file, it may take a few minutes to complete.  You're making multiple calls to the internet for each record, so that can take a little while.\n"
      ]
    },
    {
      "cell_type": "code",
      "execution_count": 24,
      "metadata": {
        "id": "SOaRyuAXQMk2"
      },
      "outputs": [],
      "source": [
        "import requests\n",
        "import csv\n",
        "import json\n",
        "\n",
        "# Define the process_people function to process the data\n",
        "def process_people(file_location):\n",
        "    results = {}\n",
        "    \"\"\"\n",
        "      The function accepts a file path as input and, in return, generates a list of dictionaries. Each dictionary includes a unique patient number as the key and\n",
        "      a set of associated parameters, such as gender, age, breathing rate, oxygen saturation, heart rate, systolic blood pressure, body temperature, inspired oxygen levels,\n",
        "      performance status, risk level, the hospital's name, and the hospital's address.\n",
        "      \"\"\"\n",
        "\n",
        "    # Load the data from the file\n",
        "    response = requests.get(file_location)\n",
        "    data = response.text.split('\\n')\n",
        "\n",
        "    # Parse the pipe-delimited data\n",
        "    reader = csv.reader(data, delimiter='|')\n",
        "\n",
        "    # Skip the header row\n",
        "    next(reader)\n",
        "\n",
        "    # Process each row\n",
        "    for row in reader:\n",
        "        if len(row) != 11:\n",
        "            continue  # Skip rows with incorrect format\n",
        "\n",
        "        patient_number, sex, age, breath, o2sat, heart, systolic, temp, alertness, inspired, status = row\n",
        "\n",
        "        age = int(age)\n",
        "        breath = float(breath)\n",
        "        o2sat = float(o2sat)\n",
        "        heart = float(heart)\n",
        "        systolic = float(systolic)\n",
        "        temp = float(temp)\n",
        "\n",
        "        risk = priest(sex, age, breath, o2sat, heart, systolic, temp, alertness, inspired, status)\n",
        "        hospital_name = find_hospital(age, sex, risk)\n",
        "        address = get_address(hospital_name.upper())\n",
        "        results[patient_number]=[sex,age,breath,o2sat,heart,systolic,temp,alertness,inspired,status,risk,hospital_name,address]\n",
        "\n",
        "    return results"
      ]
    },
    {
      "cell_type": "markdown",
      "metadata": {
        "id": "v5gRKKhvQMk3"
      },
      "source": [
        "## Part 5: Checking your final results\n",
        "\n",
        "The final step is to check your results.  You should be able to compare your results to the output in `people_results.json` at the link below.  Write some code to check your results.  This does not need to be a function.\n",
        "\n",
        "`https://drive.google.com/uc?export=download&id=1gx1SSC20mO5XL6uYD0mdcM_cL91fcIW5`\n"
      ]
    },
    {
      "cell_type": "code",
      "execution_count": 25,
      "metadata": {
        "colab": {
          "base_uri": "https://localhost:8080/"
        },
        "id": "_uXFTtggQMk3",
        "outputId": "7bdca376-dc1c-46bb-d47f-e768682018da"
      },
      "outputs": [
        {
          "output_type": "stream",
          "name": "stdout",
          "text": [
            "Both dictionary is same\n"
          ]
        }
      ],
      "source": [
        "import requests\n",
        "response = requests.get('https://hds5210-data.s3.amazonaws.com/people_results.json')\n",
        "result=response.json()\n",
        "\n",
        "process= process_people(\"https://hds5210-data.s3.amazonaws.com/people.psv\")\n",
        "for key in result.keys():\n",
        "  if result[key]!=process[key]:\n",
        "    print(f\"error at{key}\")\n",
        "print(\"Both dictionary is same\")"
      ]
    },
    {
      "cell_type": "markdown",
      "metadata": {
        "id": "V_6ZezKwQMk3"
      },
      "source": [
        "---\n",
        "\n",
        "## Check your work above\n",
        "\n",
        "If you didn't get them all correct, take a few minutes to think through those that aren't correct.\n",
        "\n",
        "\n",
        "## Submitting Your Work\n",
        "\n",
        "Submit your work as usual into a folder named `midterm`"
      ]
    },
    {
      "cell_type": "markdown",
      "metadata": {
        "id": "0Xjv0B6UQMk3"
      },
      "source": [
        "---"
      ]
    }
  ],
  "metadata": {
    "kernelspec": {
      "display_name": "Python 3",
      "language": "python",
      "name": "python3"
    },
    "language_info": {
      "codemirror_mode": {
        "name": "ipython",
        "version": 3
      },
      "file_extension": ".py",
      "mimetype": "text/x-python",
      "name": "python",
      "nbconvert_exporter": "python",
      "pygments_lexer": "ipython3",
      "version": "3.9.16"
    },
    "colab": {
      "provenance": []
    }
  },
  "nbformat": 4,
  "nbformat_minor": 0
}