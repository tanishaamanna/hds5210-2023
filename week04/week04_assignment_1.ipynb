{
  "cells": [
    {
      "cell_type": "markdown",
      "metadata": {
        "nbgrader": {
          "grade": false,
          "grade_id": "intro",
          "locked": true,
          "schema_version": 1,
          "solution": false
        },
        "id": "gZjiSvWI4enB"
      },
      "source": [
        "# Week 4 Exercises\n",
        "\n",
        "_modules 13-15_\n",
        "\n",
        "_See also [documentation on standard data types](https://docs.python.org/3/library/stdtypes.html)_\n",
        "\n",
        "Modules 13 through 15 have all been about different built-in data types that can be used to create larger and more complex data structures.  We learned about tuples, lists, dictionaries, and how to access and process that data in new ways.\n",
        "\n",
        "\n",
        "\n",
        "Do not change anything else or add any other code to this notebook. If you need to do scratch work to determine an answer, create a new notebook and do your work there.\n",
        "\n",
        "---\n",
        "---"
      ]
    },
    {
      "cell_type": "markdown",
      "metadata": {
        "id": "hrX16vKZ4enC"
      },
      "source": [
        "### 13.1 Which of the following statements are true?\n",
        "\n",
        "Placeholders for two answers are provided, but there may be more correction options.\n",
        "> A) The elements in both Tuples and Lists have a specific order\n",
        ">\n",
        "> B) Tuples and Lists can both be nested\n",
        ">\n",
        "> C) A Tuple can be concatenated to another Tuple using the `+` operator\n",
        ">\n",
        "> D) Tuples and Lists can both have items appended to their ends\n",
        "\n"
      ]
    },
    {
      "cell_type": "code",
      "execution_count": 1,
      "metadata": {
        "id": "9EJi7_q-4enC"
      },
      "outputs": [],
      "source": [
        "answers = {}\n",
        "answers[\"13.1\"] = [\"A\",\"B\",\"C\"]"
      ]
    },
    {
      "cell_type": "markdown",
      "metadata": {
        "id": "fMVEI4mx4enD"
      },
      "source": [
        "### 13.2 What does this code output?\n",
        "\n",
        "```python\n",
        "(a, b) = ('First', 'Second')\n",
        "(b, a) = (a, b)\n",
        "print(b)\n",
        "```\n",
        "\n",
        "> A) `First`\n",
        ">\n",
        "> B) `Second`\n",
        ">\n",
        "> C) `('First', 'Second')`\n",
        ">\n",
        "> D) _nothing_"
      ]
    },
    {
      "cell_type": "code",
      "execution_count": 2,
      "metadata": {
        "id": "nxTjm4Z94enD"
      },
      "outputs": [],
      "source": [
        "answers[\"13.2\"] = \"A\""
      ]
    },
    {
      "cell_type": "markdown",
      "metadata": {
        "id": "F3t04NHr4enD"
      },
      "source": [
        "### 13.3 What is the output of the following code?\n",
        "\n",
        "```python\n",
        "(a, b) = (['Paul','Alex','Linda','Kathy','Amit','Samira'], [41, 38, 30, 43, 41, 40, 34, 52])\n",
        "len(b)\n",
        "```\n",
        "\n",
        "> A) _Error_\n",
        ">\n",
        "> B) `6`\n",
        ">\n",
        "> C) `8`\n",
        ">\n",
        "> D) _None_"
      ]
    },
    {
      "cell_type": "code",
      "execution_count": 3,
      "metadata": {
        "id": "CT4Zo9GB4enE"
      },
      "outputs": [],
      "source": [
        "answers[\"13.3\"] = \"C\""
      ]
    },
    {
      "cell_type": "markdown",
      "metadata": {
        "id": "cMIqLJBx4enE"
      },
      "source": [
        "### 13.4 What is the output of the following code?\n",
        "\n",
        "```python\n",
        "(a, b) = (['Paul','Alex','Linda','Kathy','Amit','Samira'], [41, 38, 30, 43, 41, 40, 34, 52])\n",
        "len(a[5])\n",
        "```\n",
        "\n",
        "> A) `4`\n",
        ">\n",
        "> B) `5`\n",
        ">\n",
        "> C) `6`\n",
        ">\n",
        "> D) _None_"
      ]
    },
    {
      "cell_type": "code",
      "execution_count": 4,
      "metadata": {
        "id": "6VRlhvrY4enE"
      },
      "outputs": [],
      "source": [
        "answers[\"13.4\"] = \"C\""
      ]
    },
    {
      "cell_type": "markdown",
      "metadata": {
        "id": "KUornFe54enE"
      },
      "source": [
        "### 13.5 What is the output from the code below?\n",
        "\n",
        "```python\n",
        "dxs = [['COPD','CHF','MI'],['DVT','DBS'],['GI','CNC']]\n",
        "len(dxs[1])\n",
        "```\n",
        "\n",
        "> A) _Error_\n",
        ">\n",
        "> B) `3`\n",
        ">\n",
        "> C) `2`\n",
        ">\n",
        "> D) _None_"
      ]
    },
    {
      "cell_type": "code",
      "execution_count": 5,
      "metadata": {
        "id": "EM2sVNgJ4enE"
      },
      "outputs": [],
      "source": [
        "answers[\"13.5\"] = \"C\""
      ]
    },
    {
      "cell_type": "markdown",
      "metadata": {
        "id": "Lto9qtad4enF"
      },
      "source": [
        "### 13.6 What will the resulting value of `vals` be?\n",
        "\n",
        "```python\n",
        "vals = [3.14, 1.41]\n",
        "vals.append([2.72])\n",
        "vals = vals + ['i']\n",
        "```\n",
        "\n",
        "> A) `[3.14, 1.41, 2.72, ['i']]`\n",
        ">\n",
        "> B) `[3.14, 1.41, [2.72], 'i']`\n",
        ">\n",
        "> C) `[3.14, 1.41, [2.72], ['i']]`\n",
        ">\n",
        "> D) `[3.14, 1.41, [2.72, 'i']`"
      ]
    },
    {
      "cell_type": "code",
      "execution_count": 6,
      "metadata": {
        "id": "7iF_6Uu74enF"
      },
      "outputs": [],
      "source": [
        "answers[\"13.6\"] = \"B\""
      ]
    },
    {
      "cell_type": "markdown",
      "metadata": {
        "id": "tMfi_zW-4enF"
      },
      "source": [
        "### 13.7 Which of the following statements are correct?\n",
        "\n",
        "Placeholders for two options are provided, but there may be more correct answers.\n",
        "> A) Lists can have other lists inside them\n",
        ">\n",
        "> B) When you create a list, you must specify how big it will be\n",
        ">\n",
        "> C) The items in a list do not have a specific order\n",
        ">\n",
        "> D) list.sort() will sort the list in place without creating a copy"
      ]
    },
    {
      "cell_type": "code",
      "execution_count": 7,
      "metadata": {
        "id": "etFoxZub4enF"
      },
      "outputs": [],
      "source": [
        "answers[\"13.7\"] = [\"A\",\"D\"]"
      ]
    },
    {
      "cell_type": "markdown",
      "metadata": {
        "id": "b9ZifNjz4enF"
      },
      "source": [
        "### 14.1 When you retrieve items from a dictionary in a **for** loop, in what order are they processed?\n",
        "\n",
        "> A) An arbitary order that is the same each time as long as the dictionary doesn't change\n",
        ">\n",
        "> B) Always in ascending order\n",
        ">\n",
        "> C) Always in descending order\n",
        ">\n",
        "> D) A different order that is completely random each time"
      ]
    },
    {
      "cell_type": "code",
      "execution_count": 8,
      "metadata": {
        "id": "9GufODZt4enF"
      },
      "outputs": [],
      "source": [
        "answers[\"14.1\"] = \"A\""
      ]
    },
    {
      "cell_type": "markdown",
      "metadata": {
        "id": "9G0JwA9B4enG"
      },
      "source": [
        "### 14.2 What data types can be used for dictionary *keys*?\n",
        "\n",
        "Two placeholders are provided, but more answers may be correct and should be included.\n",
        "> A) Strings\n",
        ">\n",
        "> B) Integers\n",
        ">\n",
        "> C) Floats\n",
        ">\n",
        "> D) Typles"
      ]
    },
    {
      "cell_type": "code",
      "execution_count": 9,
      "metadata": {
        "id": "pdGPFspu4enG"
      },
      "outputs": [],
      "source": [
        "answers[\"14.2\"] = [\"A\",\"B\",\"C\",\"D\"]"
      ]
    },
    {
      "cell_type": "markdown",
      "metadata": {
        "id": "lSD1eE4E4enG"
      },
      "source": [
        "### 14.3 Which of the following statements are correct?\n",
        "\n",
        "Two placeholders are provided, but more answers may be correct and should be included.\n",
        "> A) Dictionaries can contain lists\n",
        ">\n",
        "> B) Lists can contain dictionaries\n",
        ">\n",
        "> C) All dictionary keys must be strings\n",
        ">\n",
        "> D) Dictionaries can contain multiple entries for the same key"
      ]
    },
    {
      "cell_type": "code",
      "execution_count": 10,
      "metadata": {
        "id": "jiexf-lh4enG"
      },
      "outputs": [],
      "source": [
        "answers[\"14.3\"] = [\"A\",\"B\"]"
      ]
    },
    {
      "cell_type": "markdown",
      "metadata": {
        "id": "bWtPTv4K4enG"
      },
      "source": [
        "### 14.4 When you enter your answers for this homework, what is the data type of the `answers` variable?\n",
        "\n",
        "> A) String\n",
        ">\n",
        "> B) Dictionary\n",
        ">\n",
        "> C) List\n",
        ">\n",
        "> D) Tuple\n"
      ]
    },
    {
      "cell_type": "code",
      "execution_count": 11,
      "metadata": {
        "id": "MWwx-2R_4enG"
      },
      "outputs": [],
      "source": [
        "answers[\"14.4\"] = \"B\""
      ]
    },
    {
      "cell_type": "markdown",
      "metadata": {
        "id": "8wwjqJa54enG"
      },
      "source": [
        "---\n",
        "\n",
        "Checking Your Work\n",
        "---\n",
        "\n",
        "After completing your work above and running each cell, you can check your answers by running the code below.\n",
        "\n",
        "The easiest way to do this is to use the `Kernel` -> `Restart Kernel and Run All Cells` menu option. This option restarts Python and runs every cell from top to bottom until it encounters an exception of some kind.  It will stop after running the cell below and outputing a summary of how many answers you have correct or incorrect.\n"
      ]
    },
    {
      "cell_type": "code",
      "execution_count": 12,
      "metadata": {
        "id": "FEbtinQv4enG",
        "outputId": "b270a8f4-e4d6-4584-b7c4-823e3633631c",
        "colab": {
          "base_uri": "https://localhost:8080/"
        }
      },
      "outputs": [
        {
          "output_type": "stream",
          "name": "stdout",
          "text": [
            "Collecting boto3\n",
            "  Downloading boto3-1.35.23-py3-none-any.whl.metadata (6.6 kB)\n",
            "Collecting botocore<1.36.0,>=1.35.23 (from boto3)\n",
            "  Downloading botocore-1.35.23-py3-none-any.whl.metadata (5.7 kB)\n",
            "Collecting jmespath<2.0.0,>=0.7.1 (from boto3)\n",
            "  Downloading jmespath-1.0.1-py3-none-any.whl.metadata (7.6 kB)\n",
            "Collecting s3transfer<0.11.0,>=0.10.0 (from boto3)\n",
            "  Downloading s3transfer-0.10.2-py3-none-any.whl.metadata (1.7 kB)\n",
            "Requirement already satisfied: python-dateutil<3.0.0,>=2.1 in /usr/local/lib/python3.10/dist-packages (from botocore<1.36.0,>=1.35.23->boto3) (2.8.2)\n",
            "Requirement already satisfied: urllib3!=2.2.0,<3,>=1.25.4 in /usr/local/lib/python3.10/dist-packages (from botocore<1.36.0,>=1.35.23->boto3) (2.0.7)\n",
            "Requirement already satisfied: six>=1.5 in /usr/local/lib/python3.10/dist-packages (from python-dateutil<3.0.0,>=2.1->botocore<1.36.0,>=1.35.23->boto3) (1.16.0)\n",
            "Downloading boto3-1.35.23-py3-none-any.whl (139 kB)\n",
            "\u001b[2K   \u001b[90m━━━━━━━━━━━━━━━━━━━━━━━━━━━━━━━━━━━━━━━━\u001b[0m \u001b[32m139.2/139.2 kB\u001b[0m \u001b[31m2.5 MB/s\u001b[0m eta \u001b[36m0:00:00\u001b[0m\n",
            "\u001b[?25hDownloading botocore-1.35.23-py3-none-any.whl (12.6 MB)\n",
            "\u001b[2K   \u001b[90m━━━━━━━━━━━━━━━━━━━━━━━━━━━━━━━━━━━━━━━━\u001b[0m \u001b[32m12.6/12.6 MB\u001b[0m \u001b[31m53.8 MB/s\u001b[0m eta \u001b[36m0:00:00\u001b[0m\n",
            "\u001b[?25hDownloading jmespath-1.0.1-py3-none-any.whl (20 kB)\n",
            "Downloading s3transfer-0.10.2-py3-none-any.whl (82 kB)\n",
            "\u001b[2K   \u001b[90m━━━━━━━━━━━━━━━━━━━━━━━━━━━━━━━━━━━━━━━━\u001b[0m \u001b[32m82.7/82.7 kB\u001b[0m \u001b[31m5.0 MB/s\u001b[0m eta \u001b[36m0:00:00\u001b[0m\n",
            "\u001b[?25hInstalling collected packages: jmespath, botocore, s3transfer, boto3\n",
            "Successfully installed boto3-1.35.23 botocore-1.35.23 jmespath-1.0.1 s3transfer-0.10.2\n",
            "=============================================\n",
            "== RESULTS for tmanna@slu.edu\n",
            "=============================================\n",
            "   Q#               Yours  Correct?\n",
            " 13.1     ['A', 'B', 'C']        OK\n",
            " 13.2                   A        OK\n",
            " 13.3                   C        OK\n",
            " 13.4                   C        OK\n",
            " 13.5                   C        OK\n",
            " 13.6                   B        OK\n",
            " 13.7          ['A', 'D']        OK\n",
            " 14.1                   A        OK\n",
            " 14.2['A', 'B', 'C', 'D']        OK\n",
            " 14.3          ['A', 'B']        OK\n",
            " 14.4                   B        OK\n"
          ]
        }
      ],
      "source": [
        "!pip install boto3\n",
        "import httpimport\n",
        "with httpimport.remote_repo('https://gist.githubusercontent.com/paulboal/f14bead2d24fcb9499f4de4607908824/raw/4c3c0e75ea1510bb090bada047372954160e64d4'):\n",
        "    import checker\n",
        "\n",
        "checker.check_hds5210(answers, 'week04')"
      ]
    },
    {
      "cell_type": "markdown",
      "metadata": {
        "id": "qEBK9H8e4enG"
      },
      "source": [
        "---\n",
        "\n",
        "## Check your work above\n",
        "\n",
        "If you didn't get them all correct, take a few minutes to think through those that aren't correct.\n",
        "\n",
        "\n",
        "## Submitting Your Work\n",
        "\n",
        "In order to submit your work, you'll need to save this notebook file back to GitHub.  To do that in Google Colab:\n",
        "1. File -> Save a Copy in GitHub\n",
        "2. Make sure your HDS5210 repository is selected\n",
        "3. Make sure the file name includes the week number like this: `week02/week02_assignment_1.ipynb`\n",
        "4. Add a commit message that means something\n",
        "\n",
        "**Be sure week names are lowercase and use a two digit week number!!**\n",
        "\n",
        "**Be sure you use the same file name provided by the instructor!!**\n",
        "\n"
      ]
    }
  ],
  "metadata": {
    "celltoolbar": "Create Assignment",
    "kernelspec": {
      "display_name": "Python 3",
      "language": "python",
      "name": "python3"
    },
    "language_info": {
      "codemirror_mode": {
        "name": "ipython",
        "version": 3
      },
      "file_extension": ".py",
      "mimetype": "text/x-python",
      "name": "python",
      "nbconvert_exporter": "python",
      "pygments_lexer": "ipython3",
      "version": "3.6.7"
    },
    "colab": {
      "provenance": []
    }
  },
  "nbformat": 4,
  "nbformat_minor": 0
}