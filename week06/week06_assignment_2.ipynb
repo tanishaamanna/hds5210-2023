{
  "cells": [
    {
      "cell_type": "markdown",
      "metadata": {
        "nbgrader": {
          "grade": false,
          "grade_id": "intro",
          "locked": true,
          "schema_version": 1,
          "solution": false
        },
        "id": "poXWvHafqGbl"
      },
      "source": [
        "# Week 6 Exercises\n",
        "\n",
        "_McKinney 6.1_\n",
        "\n",
        "There are multiple ways to solve the problems below.  You can use any one of several approaches.  For example, you can read CSV files using Pandas or the csv module.  Your score won't depend on which modules you choose to use unless explicitly noted below, but your programming style will still matter."
      ]
    },
    {
      "cell_type": "markdown",
      "metadata": {
        "nbgrader": {
          "grade": false,
          "grade_id": "q1-description",
          "locked": true,
          "schema_version": 1,
          "solution": false
        },
        "id": "kgWxVlVoqGbm"
      },
      "source": [
        "### 30.1 List of Allergies\n",
        "\n",
        "In this GitHub repository, there is a file called `allergies.json` that contains a list of patient allergies.  You will need to download this [file from here](https://raw.githubusercontent.com/paulboal/hds5210-2023/main/week06/allergies.json) and then upload it into Google Colab to run these examples. It is taken from sample data provided by the EHR vendor, Epic, here: https://open.epic.com/Clinical/Allergy\n",
        "\n",
        "Take some time to look at the structure of the file.  You can open it directly in Jupyter by clicking the _Home_ icon, then the _from_instructor_ folder, and then the _data_ folder.\n",
        "\n",
        "Within the file, you'll see that it is a dictionary with many items in it.  One of those items is called `entry` and that item is a list of things.  You can tell that because the item name is immediately followed by an opening square bracket, signifying the start of a list.  It's line 11 of the file: `  \"entry\": [`\n",
        "\n",
        "Write a function named `allergy_count(json_file)` that takes as one parameter the name of the JSON file and returns an integer number of entries in that file.  Your function should open the file, read the json into a Python object, and return how many items there are in the list of `entry`s."
      ]
    },
    {
      "cell_type": "code",
      "execution_count": null,
      "metadata": {
        "id": "jMAgCub-qGbn"
      },
      "outputs": [],
      "source": [
        "import json\n",
        "ALLERGIES_FILE=\"allergies.json\""
      ]
    },
    {
      "cell_type": "code",
      "execution_count": null,
      "metadata": {
        "nbgrader": {
          "grade": false,
          "grade_id": "q1-answer",
          "locked": false,
          "schema_version": 1,
          "solution": true
        },
        "id": "gXklcuIdqGbn"
      },
      "outputs": [],
      "source": [
        "# Put your solution here\n",
        "def allergy_count(json_file):\n",
        "  \"\"\" Count the number of entries in a json_file containing allergy data.\n",
        "      Args:\n",
        "      json_file (str): The path to the JSON file providing information about allergies.\n",
        "      Return\n",
        "      int: The number of entries in the JSON file is returned as integer.\n",
        "    \"\"\"\n",
        "  ALLERGIES_FILE = json.load(open('allergies.json', 'r'))\n",
        "\n",
        "  # Check if the JSON data is a int\n",
        "  if (ALLERGIES_FILE, int):\n",
        "  # Return the number of entries in the int\n",
        "      return len(ALLERGIES_FILE['entry'])"
      ]
    },
    {
      "cell_type": "code",
      "execution_count": null,
      "metadata": {
        "colab": {
          "base_uri": "https://localhost:8080/"
        },
        "id": "slM6YUVRqGbn",
        "outputId": "7e784787-3ade-43f2-c09b-3549e18b3b2c"
      },
      "outputs": [
        {
          "output_type": "execute_result",
          "data": {
            "text/plain": [
              "4"
            ]
          },
          "metadata": {},
          "execution_count": 19
        }
      ],
      "source": [
        "allergy_count(ALLERGIES_FILE)"
      ]
    },
    {
      "cell_type": "code",
      "execution_count": null,
      "metadata": {
        "nbgrader": {
          "grade": true,
          "grade_id": "q1-tests",
          "locked": true,
          "points": 5,
          "schema_version": 1,
          "solution": false
        },
        "id": "cIxmFJkjqGbo"
      },
      "outputs": [],
      "source": [
        "assert type(allergy_count(ALLERGIES_FILE)) == int\n",
        "assert allergy_count(ALLERGIES_FILE) == 4"
      ]
    },
    {
      "cell_type": "markdown",
      "metadata": {
        "id": "EEPD-NbaqGbo"
      },
      "source": [
        "### 30.2 Number of Patients\n",
        "\n",
        "If you dig a little bit deaper into this list of allergies, you'll see that each result has a patient associated with it.  Create a funcation called `patient_count(json_file)` that will count how many unique patients we have in this JSON structure.  "
      ]
    },
    {
      "cell_type": "code",
      "execution_count": null,
      "metadata": {
        "id": "Qm1oeKeFqGbo"
      },
      "outputs": [],
      "source": [
        "# Put your solution here\n",
        "\"\"\" Determine how many distinct patients there are in a json_file that contains allergy data\n",
        "    Args:\n",
        "    json_file (str): The path to the JSON file containing allergy data.\n",
        "    Returns:\n",
        "    int: The number of unique patients identified in the JSON file.\n",
        "    int: 0 if the file doesn't exist or the JSON data is not in the expected format\n",
        "\"\"\"\n",
        "def patient_count(json_file):\n",
        "    try:\n",
        "        # Open the JSON file and load its contents into a Python object\n",
        "        with open('allergies.json', 'r') as file:\n",
        "            data = json.load(file)\n",
        "\n",
        "        # Extract the list of entries from the JSON data\n",
        "        entries = data.get(\"entry\", [])\n",
        "\n",
        "        # Initialize a set to store unique patient names\n",
        "        unique_patients = set()\n",
        "\n",
        "        # Iterate through the entries and add patient names to the set\n",
        "        for entry in entries:\n",
        "            resource = entry.get(\"resource\", {})\n",
        "            patient_display = resource.get(\"patient\", {}).get(\"display\")\n",
        "            if patient_display:\n",
        "                unique_patients.add(patient_display)\n",
        "\n",
        "        # Return the number of unique patients\n",
        "        return len(unique_patients)\n",
        "    except FileNotFoundError:\n",
        "        print(f\"Error: File '{json_file}' not found.\")\n",
        "        return 0\n",
        "    except json.JSONDecodeError:\n",
        "        print(f\"Error: Unable to decode JSON in '{json_file}'.\")\n",
        "        return 0"
      ]
    },
    {
      "cell_type": "code",
      "execution_count": null,
      "metadata": {
        "colab": {
          "base_uri": "https://localhost:8080/"
        },
        "id": "vxqP1wDeqGbo",
        "outputId": "2230a0ac-4448-4c2b-c49d-f38af7136975"
      },
      "outputs": [
        {
          "output_type": "execute_result",
          "data": {
            "text/plain": [
              "2"
            ]
          },
          "metadata": {},
          "execution_count": 22
        }
      ],
      "source": [
        "patient_count(ALLERGIES_FILE)"
      ]
    },
    {
      "cell_type": "code",
      "execution_count": null,
      "metadata": {
        "id": "Fn_AX8knqGbo"
      },
      "outputs": [],
      "source": [
        "assert type(patient_count(ALLERGIES_FILE)) == int\n",
        "assert patient_count(ALLERGIES_FILE) == 2"
      ]
    },
    {
      "cell_type": "markdown",
      "metadata": {
        "id": "b6_EkzghqGbp"
      },
      "source": [
        "### 30.3 How Many Allergies per Patient\n",
        "\n",
        "Although each entry is a separate allergy, several of them are for the same patient.  Write a function called `allergy_per_patient(json_file)` that counts up how many allergies each patient has.\n"
      ]
    },
    {
      "cell_type": "code",
      "execution_count": null,
      "metadata": {
        "id": "R3STikO5qGbp"
      },
      "outputs": [],
      "source": [
        "# Put your solution here\n",
        "\"\"\"\n",
        "    Calculate the allergy count for each patient from a json_file containing allergy data.\n",
        "    Parameters:\n",
        "    json_file (str): The file path to the JSON data that contains allergy information.\n",
        "    Returns:\n",
        "    dict: A dictionary with patient names as keys and values representing the number of allergies for each patient\n",
        "    \"\"\"\n",
        "def allergy_per_patient(json_file):\n",
        "    allergy_entries = allergy_list(json_file)\n",
        "\n",
        "    allergies_count_per_patient = {}\n",
        "    for entry in allergy_entries:\n",
        "        patient_name = entry[0]\n",
        "        allergies_count_per_patient[patient_name] = allergies_count_per_patient.get(patient_name, 0) + 1\n",
        "\n",
        "    return allergies_count_per_patient"
      ]
    },
    {
      "cell_type": "code",
      "execution_count": null,
      "metadata": {
        "colab": {
          "base_uri": "https://localhost:8080/"
        },
        "id": "1WPZGDAdqGbp",
        "outputId": "39669a74-39ac-4173-90f8-02ed261d236c"
      },
      "outputs": [
        {
          "output_type": "execute_result",
          "data": {
            "text/plain": [
              "{'Jason Argonaut': 3, 'Paul Boal': 1}"
            ]
          },
          "metadata": {},
          "execution_count": 25
        }
      ],
      "source": [
        "allergy_per_patient(ALLERGIES_FILE)"
      ]
    },
    {
      "cell_type": "code",
      "execution_count": null,
      "metadata": {
        "id": "M-VGDqqBqGbp"
      },
      "outputs": [],
      "source": [
        "assert type(allergy_per_patient(ALLERGIES_FILE)) == dict\n",
        "assert allergy_per_patient(ALLERGIES_FILE) == {'Paul Boal': 1, 'Jason Argonaut': 3}"
      ]
    },
    {
      "cell_type": "markdown",
      "metadata": {
        "nbgrader": {
          "grade": false,
          "grade_id": "q2-question",
          "locked": true,
          "schema_version": 1,
          "solution": false
        },
        "id": "z59ZarwHqGbp"
      },
      "source": [
        "### 30.4 Patient Allergies and Reaction\n",
        "\n",
        "You'll see in the file that each of the items in the `entry` list have several other attributes including a patient name, substance text representation, and a reaction manifestation.  Create a function named `allergy_list(json_file)` that will create an output list that has patient name, allergy, and reaction for each `entry`.  The actual result you should get will be:\n",
        "\n",
        "```python\n",
        "[['Jason Argonaut', 'PENICILLIN G', 'Hives'],\n",
        " ['Paul Boal', 'PENICILLIN G', 'Bruising'],\n",
        " ['Jason Argonaut', 'SHELLFISH-DERIVED PRODUCTS', 'Itching'],\n",
        " ['Jason Argonaut', 'STRAWBERRY', 'Anaphylaxis']]\n",
        "```\n",
        "\n",
        "You'll notice that the reaction and the manifestation of that action are lists.  You only need to capture the first reaction and the first manifestation of the action.  That is, if there is a list of things, just output the first one."
      ]
    },
    {
      "cell_type": "code",
      "execution_count": null,
      "metadata": {
        "nbgrader": {
          "grade": false,
          "grade_id": "q2-answer",
          "locked": false,
          "schema_version": 1,
          "solution": true
        },
        "id": "bxoaW9AIqGbq"
      },
      "outputs": [],
      "source": [
        "# Put your solution here\n",
        "\"\"\" Extract a list of allergy entries from a json_file containing allergy data.\n",
        "    Args:\n",
        "    json_file (str): The path to the json_file providing information about allergies\n",
        "    Returns:\n",
        "    list: A list of lists, where each inner list contains patient name, substance text, and reaction text for an allergy entry.\n",
        "    list: An empty list if the file doesn't exist or the JSON data is not in the expected format.\n",
        "\"\"\"\n",
        "def allergy_list(json_file):\n",
        "    try:\n",
        "        with open('allergies.json', 'r') as file:\n",
        "            data = json.load(file)\n",
        "            entries = data.get(\"entry\", [])\n",
        "\n",
        "            output_list = []\n",
        "            for entry in entries:\n",
        "                patient_name = entry.get(\"resource\", {}).get(\"patient\", {}).get(\"display\")\n",
        "                substance_text = entry.get(\"resource\", {}).get(\"substance\", {}).get(\"text\")\n",
        "                reaction_text = entry.get(\"resource\", {}).get(\"reaction\", [{}])[0].get(\"manifestation\", [{}])[0].get(\"text\")\n",
        "\n",
        "                if patient_name and substance_text and reaction_text:\n",
        "                    output_list.append([patient_name, substance_text, reaction_text])\n",
        "\n",
        "            return output_list\n",
        "    except FileNotFoundError:\n",
        "        print(f\"Error: File '{json_file}' not found.\")\n",
        "        return []\n",
        "    except json.JSONDecodeError:\n",
        "        print(f\"Error: Unable to decode JSON in '{json_file}'.\")\n",
        "        return []"
      ]
    },
    {
      "cell_type": "code",
      "execution_count": null,
      "metadata": {
        "colab": {
          "base_uri": "https://localhost:8080/"
        },
        "id": "IZru1lzHqGbq",
        "outputId": "3eb83da2-f187-4e28-b6c5-e442c868c22f"
      },
      "outputs": [
        {
          "output_type": "execute_result",
          "data": {
            "text/plain": [
              "[['Jason Argonaut', 'PENICILLIN G', 'Hives'],\n",
              " ['Jason Argonaut', 'SHELLFISH-DERIVED PRODUCTS', 'Itching'],\n",
              " ['Jason Argonaut', 'STRAWBERRY', 'Anaphylaxis'],\n",
              " ['Paul Boal', 'PENICILLIN G', 'Bruising']]"
            ]
          },
          "metadata": {},
          "execution_count": 28
        }
      ],
      "source": [
        "allergy_list(ALLERGIES_FILE)"
      ]
    },
    {
      "cell_type": "code",
      "execution_count": null,
      "metadata": {
        "nbgrader": {
          "grade": true,
          "grade_id": "q2-tests",
          "locked": true,
          "points": 10,
          "schema_version": 1,
          "solution": false
        },
        "id": "GjN4_oqBqGbq"
      },
      "outputs": [],
      "source": [
        "assert allergy_list(ALLERGIES_FILE) == [['Jason Argonaut', 'PENICILLIN G', 'Hives'],\n",
        " ['Jason Argonaut', 'SHELLFISH-DERIVED PRODUCTS', 'Itching'],\n",
        " ['Jason Argonaut', 'STRAWBERRY', 'Anaphylaxis'],\n",
        " ['Paul Boal', 'PENICILLIN G', 'Bruising']]\n"
      ]
    },
    {
      "cell_type": "markdown",
      "metadata": {
        "nbgrader": {
          "grade": false,
          "grade_id": "q3-question",
          "locked": true,
          "schema_version": 1,
          "solution": false
        },
        "id": "VJ1pOIkBqGbr"
      },
      "source": [
        "### 30.5 Allergy Reaction\n",
        "\n",
        "Write a function called `allergy_reaction(json_file,patient,substance)` that takes three parameter and returns the reaction that will happen if the patient takes the specified substance.  You can solve this, in part, by calling your `allergy_list` function inside your new `allergy_reaction` function.\n",
        "\n",
        "If the substance is not found in the allergy list, the function should return None."
      ]
    },
    {
      "cell_type": "code",
      "execution_count": null,
      "metadata": {
        "nbgrader": {
          "grade": false,
          "grade_id": "q3-answer",
          "locked": false,
          "schema_version": 1,
          "solution": true
        },
        "id": "tXLrsWLeqGbr"
      },
      "outputs": [],
      "source": [
        "# Put your solution here\n",
        "\"\"\"\n",
        "    Get the response text related to a certain allergy item\n",
        "    Parameters:\n",
        "    json_file (str): The path of the json_file providing information about allergies, json_file\n",
        "    patient (str): The name of the patient for whom to find the allergy entry.\n",
        "    substance (str): The substance for which to find the allergy entry.\n",
        "    Returns:\n",
        "    str: The reaction text associated with the specified allergy entry, if found.\n",
        "    None: If neither the patient nor the substance matched any allergy entries\n",
        "    \"\"\"\n",
        "def allergy_reaction(json_file, patient, substance):\n",
        "    allergy_entries = allergy_list(json_file)\n",
        "\n",
        "    for entry in allergy_entries:\n",
        "        entry_patient, entry_substance, reaction = entry\n",
        "        if entry_patient == patient and entry_substance == substance:\n",
        "            return reaction\n",
        "\n",
        "    return None"
      ]
    },
    {
      "cell_type": "code",
      "execution_count": null,
      "metadata": {
        "colab": {
          "base_uri": "https://localhost:8080/",
          "height": 35
        },
        "id": "3y2ltSgkqGbr",
        "outputId": "0368de10-db0b-4371-b966-2b4420033352"
      },
      "outputs": [
        {
          "output_type": "execute_result",
          "data": {
            "text/plain": [
              "'Hives'"
            ],
            "application/vnd.google.colaboratory.intrinsic+json": {
              "type": "string"
            }
          },
          "metadata": {},
          "execution_count": 31
        }
      ],
      "source": [
        "allergy_reaction(ALLERGIES_FILE, 'Jason Argonaut', 'PENICILLIN G')"
      ]
    },
    {
      "cell_type": "code",
      "execution_count": null,
      "metadata": {
        "nbgrader": {
          "grade": true,
          "grade_id": "q3-tests",
          "locked": true,
          "points": 5,
          "schema_version": 1,
          "solution": false
        },
        "id": "TMLBR7-rqGbr"
      },
      "outputs": [],
      "source": [
        "assert allergy_reaction(ALLERGIES_FILE, 'Jason Argonaut', 'PENICILLIN G') == 'Hives'\n",
        "assert allergy_reaction(ALLERGIES_FILE, 'Jason Argonaut', 'SHELLFISH-DERIVED PRODUCTS') == 'Itching'\n",
        "assert allergy_reaction(ALLERGIES_FILE, 'Jason Argonaut', 'STRAWBERRY') == 'Anaphylaxis'\n",
        "assert allergy_reaction(ALLERGIES_FILE, 'Jason Argonaut', 'PENICILLIN') == None\n",
        "assert allergy_reaction(ALLERGIES_FILE, 'Paul Boal', 'PENICILLIN G') == 'Bruising'"
      ]
    },
    {
      "cell_type": "markdown",
      "metadata": {
        "id": "0rXlbQjiqGbr"
      },
      "source": [
        "---\n",
        "\n",
        "## Check your work above\n",
        "\n",
        "If you didn't get them all correct, take a few minutes to think through those that aren't correct.\n",
        "\n",
        "\n",
        "## Submitting Your Work\n",
        "\n",
        "In order to submit your work, you'll need to save this notebook file back to GitHub.  To do that in Google Colab:\n",
        "1. File -> Save a Copy in GitHub\n",
        "2. Make sure your HDS5210 repository is selected\n",
        "3. Make sure the file name includes the week number like this: `week06/week06_assignment_2.ipynb`\n",
        "4. Add a commit message that means something\n",
        "\n",
        "**Be sure week names are lowercase and use a two digit week number!!**\n",
        "\n",
        "**Be sure you use the same file name provided by the instructor!!**\n",
        "\n"
      ]
    }
  ],
  "metadata": {
    "celltoolbar": "Create Assignment",
    "kernelspec": {
      "display_name": "Python 3",
      "language": "python",
      "name": "python3"
    },
    "language_info": {
      "codemirror_mode": {
        "name": "ipython",
        "version": 3
      },
      "file_extension": ".py",
      "mimetype": "text/x-python",
      "name": "python",
      "nbconvert_exporter": "python",
      "pygments_lexer": "ipython3",
      "version": "3.9.16"
    },
    "colab": {
      "provenance": []
    }
  },
  "nbformat": 4,
  "nbformat_minor": 0
}